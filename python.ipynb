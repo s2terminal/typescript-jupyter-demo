{
 "cells": [
  {
   "cell_type": "markdown",
   "id": "20b39c9f-df5f-480b-a2c7-6828fbbd2262",
   "metadata": {},
   "source": [
    "## これはマークダウンです\n",
    "- 下のセルはPythonコードです"
   ]
  },
  {
   "cell_type": "code",
   "execution_count": 1,
   "id": "14986237-6814-4df3-884a-0058ce1e77ce",
   "metadata": {},
   "outputs": [
    {
     "data": {
      "text/plain": [
       "2"
      ]
     },
     "execution_count": 1,
     "metadata": {},
     "output_type": "execute_result"
    }
   ],
   "source": [
    "def hoge():\n",
    "    return 1+1\n",
    "\n",
    "hoge()"
   ]
  },
  {
   "cell_type": "code",
   "execution_count": null,
   "id": "4c752bd3-28c9-46d7-aebc-e249deaa62ea",
   "metadata": {},
   "outputs": [],
   "source": []
  }
 ],
 "metadata": {
  "kernelspec": {
   "display_name": "Python 3 (ipykernel)",
   "language": "python",
   "name": "python3"
  },
  "language_info": {
   "codemirror_mode": {
    "name": "ipython",
    "version": 3
   },
   "file_extension": ".py",
   "mimetype": "text/x-python",
   "name": "python",
   "nbconvert_exporter": "python",
   "pygments_lexer": "ipython3",
   "version": "3.13.2"
  }
 },
 "nbformat": 4,
 "nbformat_minor": 5
}
