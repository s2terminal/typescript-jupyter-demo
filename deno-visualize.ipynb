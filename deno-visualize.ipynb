{
 "cells": [
  {
   "cell_type": "code",
   "execution_count": 1,
   "id": "15704e60-d256-408a-a886-66541afee3fc",
   "metadata": {},
   "outputs": [],
   "source": [
    "import pl from \"npm:nodejs-polars\";\n",
    "let df"
   ]
  },
  {
   "cell_type": "code",
   "execution_count": 2,
   "id": "4af7759d-c786-4ae8-a884-4aaf892129a3",
   "metadata": {},
   "outputs": [
    {
     "data": {
      "application/vnd.dataresource+json": {
       "data": [
        {
         "日": 1,
         "最低気温": 7,
         "最高気温": 18.2,
         "月": 3
        },
        {
         "日": 2,
         "最低気温": 12.1,
         "最高気温": 15.5,
         "月": 3
        },
        {
         "日": 3,
         "最低気温": 5.7,
         "最高気温": 12.2,
         "月": 3
        },
        {
         "日": 4,
         "最低気温": 3.7,
         "最高気温": 8.7,
         "月": 3
        },
        {
         "日": 5,
         "最低気温": 8.2,
         "最高気温": 11.2,
         "月": 3
        },
        {
         "日": 6,
         "最低気温": 4.7,
         "最高気温": 11.7,
         "月": 3
        },
        {
         "日": 7,
         "最低気温": 3.8,
         "最高気温": 9.8,
         "月": 3
        }
       ],
       "schema": {
        "fields": [
         {
          "name": "月",
          "type": "number"
         },
         {
          "name": "日",
          "type": "number"
         },
         {
          "name": "最高気温",
          "type": "number"
         },
         {
          "name": "最低気温",
          "type": "number"
         }
        ]
       }
      },
      "text/html": [
       "<table><thead><tr><th>月</th><th>日</th><th>最高気温</th><th>最低気温</th></tr></thead><tbody><tr><td>3</td><td>1</td><td>18.2</td><td>7</td></tr><tr><td>3</td><td>2</td><td>15.5</td><td>12.1</td></tr><tr><td>3</td><td>3</td><td>12.2</td><td>5.7</td></tr><tr><td>3</td><td>4</td><td>8.7</td><td>3.7</td></tr><tr><td>3</td><td>5</td><td>11.2</td><td>8.2</td></tr><tr><td>3</td><td>6</td><td>11.7</td><td>4.7</td></tr><tr><td>3</td><td>7</td><td>9.8</td><td>3.8</td></tr></tbody></table>"
      ]
     },
     "execution_count": 2,
     "metadata": {},
     "output_type": "execute_result"
    }
   ],
   "source": [
    "df = pl.DataFrame([\n",
    "  {\"月\":3, \"日\":1, \"最高気温\":18.2, \"最低気温\":7},\n",
    "  {\"月\":3, \"日\":2, \"最高気温\":15.5, \"最低気温\":12.1},\n",
    "  {\"月\":3, \"日\":3, \"最高気温\":12.2, \"最低気温\":5.7},\n",
    "  {\"月\":3, \"日\":4, \"最高気温\":8.7,  \"最低気温\":3.7},\n",
    "  {\"月\":3, \"日\":5, \"最高気温\":11.2, \"最低気温\":8.2},\n",
    "  {\"月\":3, \"日\":6, \"最高気温\":11.7, \"最低気温\":4.7},\n",
    "  {\"月\":3, \"日\":7, \"最高気温\":9.8,  \"最低気温\":3.8},\n",
    "]);"
   ]
  },
  {
   "cell_type": "markdown",
   "id": "d56b9bf4-2f5f-4c5a-bdeb-4952f97b2dc5",
   "metadata": {},
   "source": [
    "データの引用元: 気象庁ホームページより、大阪府 2025年3月 日ごとの値 \n",
    "https://www.data.jma.go.jp/stats/etrn/view/daily_s1.php?prec_no=62&block_no=47772&year=2025&month=3&day=&view="
   ]
  },
  {
   "cell_type": "code",
   "execution_count": 3,
   "id": "8889ee90-d2e2-4d1b-8bf7-99e4fbc5d27e",
   "metadata": {},
   "outputs": [
    {
     "data": {
      "image/svg+xml": [
       "<svg viewBox=\"0 0 640 400\" height=\"400\" width=\"640\" text-anchor=\"middle\" font-size=\"10\" font-family=\"system-ui, sans-serif\" fill=\"currentColor\" class=\"plot-d6a7b5\"><style>:where(.plot-d6a7b5) {\n",
       "  --plot-background: white;\n",
       "  display: block;\n",
       "  height: auto;\n",
       "  height: intrinsic;\n",
       "  max-width: 100%;\n",
       "}\n",
       ":where(.plot-d6a7b5 text),\n",
       ":where(.plot-d6a7b5 tspan) {\n",
       "  white-space: pre;\n",
       "}</style><g stroke=\"currentColor\" fill=\"none\" aria-hidden=\"true\" aria-label=\"y-axis tick\"><path d=\"M0,0L-6,0\" transform=\"translate(40,358.9473684210526)\" /><path d=\"M0,0L-6,0\" transform=\"translate(40,322.10526315789474)\" /><path d=\"M0,0L-6,0\" transform=\"translate(40,285.2631578947368)\" /><path d=\"M0,0L-6,0\" transform=\"translate(40,248.4210526315789)\" /><path d=\"M0,0L-6,0\" transform=\"translate(40,211.578947368421)\" /><path d=\"M0,0L-6,0\" transform=\"translate(40,174.73684210526315)\" /><path d=\"M0,0L-6,0\" transform=\"translate(40,137.89473684210523)\" /><path d=\"M0,0L-6,0\" transform=\"translate(40,101.05263157894734)\" /><path d=\"M0,0L-6,0\" transform=\"translate(40,64.21052631578945)\" /><path d=\"M0,0L-6,0\" transform=\"translate(40,27.368421052631565)\" /></g><g transform=\"translate(-9,0)\" font-variant=\"tabular-nums\" text-anchor=\"end\" aria-label=\"y-axis tick label\"><text transform=\"translate(40,358.9473684210526)\" y=\"0.32em\">9</text><text transform=\"translate(40,322.10526315789474)\" y=\"0.32em\">10</text><text transform=\"translate(40,285.2631578947368)\" y=\"0.32em\">11</text><text transform=\"translate(40,248.4210526315789)\" y=\"0.32em\">12</text><text transform=\"translate(40,211.578947368421)\" y=\"0.32em\">13</text><text transform=\"translate(40,174.73684210526315)\" y=\"0.32em\">14</text><text transform=\"translate(40,137.89473684210523)\" y=\"0.32em\">15</text><text transform=\"translate(40,101.05263157894734)\" y=\"0.32em\">16</text><text transform=\"translate(40,64.21052631578945)\" y=\"0.32em\">17</text><text transform=\"translate(40,27.368421052631565)\" y=\"0.32em\">18</text></g><g transform=\"translate(-37,-17)\" text-anchor=\"start\" aria-label=\"y-axis label\"><text transform=\"translate(40,20)\" y=\"0.71em\">↑ 最高気温</text></g><g stroke=\"currentColor\" fill=\"none\" aria-hidden=\"true\" aria-label=\"x-axis tick\"><path d=\"M0,0L0,6\" transform=\"translate(40,370)\" /><path d=\"M0,0L0,6\" transform=\"translate(136.66666666666666,370)\" /><path d=\"M0,0L0,6\" transform=\"translate(233.33333333333331,370)\" /><path d=\"M0,0L0,6\" transform=\"translate(330,370)\" /><path d=\"M0,0L0,6\" transform=\"translate(426.66666666666663,370)\" /><path d=\"M0,0L0,6\" transform=\"translate(523.3333333333334,370)\" /><path d=\"M0,0L0,6\" transform=\"translate(620,370)\" /></g><g transform=\"translate(0,9)\" font-variant=\"tabular-nums\" aria-label=\"x-axis tick label\"><text transform=\"translate(40,370)\" y=\"0.71em\">1</text><text transform=\"translate(136.66666666666666,370)\" y=\"0.71em\">2</text><text transform=\"translate(233.33333333333331,370)\" y=\"0.71em\">3</text><text transform=\"translate(330,370)\" y=\"0.71em\">4</text><text transform=\"translate(426.66666666666663,370)\" y=\"0.71em\">5</text><text transform=\"translate(523.3333333333334,370)\" y=\"0.71em\">6</text><text transform=\"translate(620,370)\" y=\"0.71em\">7</text></g><g transform=\"translate(17,27)\" text-anchor=\"end\" aria-label=\"x-axis label\"><text transform=\"translate(620,370)\">日 →</text></g><g stroke-linecap=\"round\" stroke-linejoin=\"round\" stroke-width=\"1.5\" stroke=\"currentColor\" fill=\"none\" aria-label=\"line\"><path d=\"M40,20L136.667,119.474L233.333,241.053L330,370L426.667,277.895L523.333,259.474L620,329.474\" /></g></svg>"
      ]
     },
     "execution_count": 3,
     "metadata": {},
     "output_type": "execute_result"
    }
   ],
   "source": [
    "import * as Plot from \"npm:@observablehq/plot\";\n",
    "import { document } from \"jsr:@ry/jupyter-helper\";\n",
    "\n",
    "Plot.plot({\n",
    "  marks: [\n",
    "    Plot.lineY(df.toRecords(), {x: \"日\", y: \"最高気温\"}),\n",
    "  ],\n",
    "  document,\n",
    "});"
   ]
  },
  {
   "cell_type": "code",
   "execution_count": 4,
   "id": "6a380d86-03fc-4483-be66-5be7ddbe3216",
   "metadata": {},
   "outputs": [
    {
     "data": {
      "image/svg+xml": [
       "<svg viewBox=\"0 0 640 400\" height=\"400\" width=\"640\" text-anchor=\"middle\" font-size=\"10\" font-family=\"system-ui, sans-serif\" fill=\"currentColor\" class=\"plot-d6a7b5\"><style>:where(.plot-d6a7b5) {\n",
       "  --plot-background: white;\n",
       "  display: block;\n",
       "  height: auto;\n",
       "  height: intrinsic;\n",
       "  max-width: 100%;\n",
       "}\n",
       ":where(.plot-d6a7b5 text),\n",
       ":where(.plot-d6a7b5 tspan) {\n",
       "  white-space: pre;\n",
       "}</style><g stroke-opacity=\"0.1\" stroke=\"currentColor\" aria-hidden=\"true\" aria-label=\"y-grid\"><line y2=\"370\" y1=\"370\" x2=\"620\" x1=\"40\" /><line y2=\"331.53846153846155\" y1=\"331.53846153846155\" x2=\"620\" x1=\"40\" /><line y2=\"293.07692307692304\" y1=\"293.07692307692304\" x2=\"620\" x1=\"40\" /><line y2=\"254.61538461538464\" y1=\"254.61538461538464\" x2=\"620\" x1=\"40\" /><line y2=\"216.15384615384616\" y1=\"216.15384615384616\" x2=\"620\" x1=\"40\" /><line y2=\"177.69230769230765\" y1=\"177.69230769230765\" x2=\"620\" x1=\"40\" /><line y2=\"139.23076923076923\" y1=\"139.23076923076923\" x2=\"620\" x1=\"40\" /><line y2=\"100.76923076923076\" y1=\"100.76923076923076\" x2=\"620\" x1=\"40\" /><line y2=\"62.307692307692314\" y1=\"62.307692307692314\" x2=\"620\" x1=\"40\" /><line y2=\"23.846153846153832\" y1=\"23.846153846153832\" x2=\"620\" x1=\"40\" /></g><g stroke=\"currentColor\" fill=\"none\" aria-hidden=\"true\" aria-label=\"y-axis tick\"><path d=\"M0,0L-6,0\" transform=\"translate(40,370)\" /><path d=\"M0,0L-6,0\" transform=\"translate(40,331.53846153846155)\" /><path d=\"M0,0L-6,0\" transform=\"translate(40,293.07692307692304)\" /><path d=\"M0,0L-6,0\" transform=\"translate(40,254.61538461538464)\" /><path d=\"M0,0L-6,0\" transform=\"translate(40,216.15384615384616)\" /><path d=\"M0,0L-6,0\" transform=\"translate(40,177.69230769230765)\" /><path d=\"M0,0L-6,0\" transform=\"translate(40,139.23076923076923)\" /><path d=\"M0,0L-6,0\" transform=\"translate(40,100.76923076923076)\" /><path d=\"M0,0L-6,0\" transform=\"translate(40,62.307692307692314)\" /><path d=\"M0,0L-6,0\" transform=\"translate(40,23.846153846153832)\" /></g><g transform=\"translate(-9,0)\" font-variant=\"tabular-nums\" text-anchor=\"end\" aria-label=\"y-axis tick label\"><text transform=\"translate(40,370)\" y=\"0.32em\">0</text><text transform=\"translate(40,331.53846153846155)\" y=\"0.32em\">2</text><text transform=\"translate(40,293.07692307692304)\" y=\"0.32em\">4</text><text transform=\"translate(40,254.61538461538464)\" y=\"0.32em\">6</text><text transform=\"translate(40,216.15384615384616)\" y=\"0.32em\">8</text><text transform=\"translate(40,177.69230769230765)\" y=\"0.32em\">10</text><text transform=\"translate(40,139.23076923076923)\" y=\"0.32em\">12</text><text transform=\"translate(40,100.76923076923076)\" y=\"0.32em\">14</text><text transform=\"translate(40,62.307692307692314)\" y=\"0.32em\">16</text><text transform=\"translate(40,23.846153846153832)\" y=\"0.32em\">18</text></g><g stroke-opacity=\"0.1\" stroke=\"currentColor\" aria-hidden=\"true\" aria-label=\"x-grid\"><line y2=\"370\" y1=\"20\" x2=\"40\" x1=\"40\" /><line y2=\"370\" y1=\"20\" x2=\"136.66666666666666\" x1=\"136.66666666666666\" /><line y2=\"370\" y1=\"20\" x2=\"233.33333333333331\" x1=\"233.33333333333331\" /><line y2=\"370\" y1=\"20\" x2=\"330\" x1=\"330\" /><line y2=\"370\" y1=\"20\" x2=\"426.66666666666663\" x1=\"426.66666666666663\" /><line y2=\"370\" y1=\"20\" x2=\"523.3333333333334\" x1=\"523.3333333333334\" /><line y2=\"370\" y1=\"20\" x2=\"620\" x1=\"620\" /></g><g stroke=\"currentColor\" fill=\"none\" aria-hidden=\"true\" aria-label=\"x-axis tick\"><path d=\"M0,0L0,6\" transform=\"translate(40,370)\" /><path d=\"M0,0L0,6\" transform=\"translate(136.66666666666666,370)\" /><path d=\"M0,0L0,6\" transform=\"translate(233.33333333333331,370)\" /><path d=\"M0,0L0,6\" transform=\"translate(330,370)\" /><path d=\"M0,0L0,6\" transform=\"translate(426.66666666666663,370)\" /><path d=\"M0,0L0,6\" transform=\"translate(523.3333333333334,370)\" /><path d=\"M0,0L0,6\" transform=\"translate(620,370)\" /></g><g transform=\"translate(0,9)\" font-variant=\"tabular-nums\" aria-label=\"x-axis tick label\"><text transform=\"translate(40,370)\" y=\"0.71em\">1</text><text transform=\"translate(136.66666666666666,370)\" y=\"0.71em\">2</text><text transform=\"translate(233.33333333333331,370)\" y=\"0.71em\">3</text><text transform=\"translate(330,370)\" y=\"0.71em\">4</text><text transform=\"translate(426.66666666666663,370)\" y=\"0.71em\">5</text><text transform=\"translate(523.3333333333334,370)\" y=\"0.71em\">6</text><text transform=\"translate(620,370)\" y=\"0.71em\">7</text></g><g transform=\"translate(17,27)\" text-anchor=\"end\" aria-label=\"x-axis label\"><text transform=\"translate(620,370)\">日 →</text></g><g stroke=\"currentColor\" aria-label=\"rule\"><line y2=\"370\" y1=\"370\" x2=\"620\" x1=\"40\" /></g><g stroke-linecap=\"round\" stroke-linejoin=\"round\" stroke-width=\"1.5\" stroke=\"red\" fill=\"none\" aria-label=\"line\"><path d=\"M40,20L136.667,71.923L233.333,135.385L330,202.692L426.667,154.615L523.333,145L620,181.538\" /></g><g stroke-linecap=\"round\" stroke-linejoin=\"round\" stroke-width=\"1.5\" stroke=\"blue\" fill=\"none\" aria-label=\"line\"><path d=\"M40,235.385L136.667,137.308L233.333,260.385L330,298.846L426.667,212.308L523.333,279.615L620,296.923\" /></g><rect height=\"350\" width=\"580\" y=\"20\" x=\"40\" stroke=\"currentColor\" fill=\"none\" aria-label=\"frame\" /></svg>"
      ]
     },
     "execution_count": 4,
     "metadata": {},
     "output_type": "execute_result"
    }
   ],
   "source": [
    "Plot.plot({\n",
    "  color: {legend: true},\n",
    "  grid: true,\n",
    "  marks: [\n",
    "    Plot.ruleY([0]),\n",
    "    Plot.lineY(df.toRecords(), {x: \"日\", y: \"最高気温\", stroke: \"red\"}),\n",
    "    Plot.lineY(df.toRecords(), {x: \"日\", y: \"最低気温\", stroke: \"blue\"}),\n",
    "    Plot.frame(),\n",
    "  ],\n",
    "  document,\n",
    "});"
   ]
  },
  {
   "cell_type": "code",
   "execution_count": null,
   "id": "f0fca5b0-1ed8-4878-aef1-e664941f2141",
   "metadata": {},
   "outputs": [],
   "source": []
  }
 ],
 "metadata": {
  "kernelspec": {
   "display_name": "Deno",
   "language": "typescript",
   "name": "deno"
  },
  "language_info": {
   "codemirror_mode": "typescript",
   "file_extension": ".ts",
   "mimetype": "text/x.typescript",
   "name": "typescript",
   "nbconvert_exporter": "script",
   "pygments_lexer": "typescript",
   "version": "5.7.3"
  }
 },
 "nbformat": 4,
 "nbformat_minor": 5
}
