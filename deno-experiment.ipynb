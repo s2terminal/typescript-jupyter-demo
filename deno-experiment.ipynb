{
 "cells": [
  {
   "cell_type": "code",
   "execution_count": 1,
   "id": "f8740a7d-2379-4f20-8c76-91fafef9e0e0",
   "metadata": {},
   "outputs": [
    {
     "name": "stdout",
     "output_type": "stream",
     "text": [
      "日本で一番高い山は「富士山」やで！標高は3,776メートルやさかい、めっちゃ高いんやで。\n"
     ]
    }
   ],
   "source": [
    "import OpenAI from 'jsr:@openai/openai';\n",
    "const client = new OpenAI({\n",
    "  apiKey: process.env['OPENAI_API_KEY'],\n",
    "});\n",
    "\n",
    "const response = await client.responses.create({\n",
    "  model: 'gpt-4.1-mini',\n",
    "  input: '日本で一番高い山は？関西弁で',\n",
    "});\n",
    "\n",
    "console.log(response.output_text);"
   ]
  },
  {
   "cell_type": "code",
   "execution_count": null,
   "id": "9c95b0de-14fd-4e1f-8eb8-c69c0ec1623c",
   "metadata": {},
   "outputs": [],
   "source": []
  }
 ],
 "metadata": {
  "kernelspec": {
   "display_name": "Deno",
   "language": "typescript",
   "name": "deno"
  },
  "language_info": {
   "codemirror_mode": "typescript",
   "file_extension": ".ts",
   "mimetype": "text/x.typescript",
   "name": "typescript",
   "nbconvert_exporter": "script",
   "pygments_lexer": "typescript",
   "version": "5.7.3"
  }
 },
 "nbformat": 4,
 "nbformat_minor": 5
}
